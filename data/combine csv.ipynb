{
 "metadata": {
  "language_info": {
   "codemirror_mode": {
    "name": "ipython",
    "version": 3
   },
   "file_extension": ".py",
   "mimetype": "text/x-python",
   "name": "python",
   "nbconvert_exporter": "python",
   "pygments_lexer": "ipython3",
   "version": "3.8.5"
  },
  "orig_nbformat": 2,
  "kernelspec": {
   "name": "myenv",
   "display_name": "Python 3.8.5 64-bit ('PythonData': conda)"
  }
 },
 "nbformat": 4,
 "nbformat_minor": 2,
 "cells": [
  {
   "cell_type": "code",
   "execution_count": 1,
   "metadata": {},
   "outputs": [],
   "source": [
    "import os\n",
    "import glob\n",
    "import pandas as pd\n"
   ]
  },
  {
   "cell_type": "code",
   "execution_count": 2,
   "metadata": {},
   "outputs": [],
   "source": [
    "extension = 'csv'\n",
    "all_filenames = [i for i in glob.glob('*.{}'.format(extension))]"
   ]
  },
  {
   "cell_type": "code",
   "execution_count": 3,
   "metadata": {},
   "outputs": [
    {
     "output_type": "execute_result",
     "data": {
      "text/plain": [
       "       tripduration                 starttime                  stoptime  \\\n",
       "0               107  2019-04-01 07:48:04.7540  2019-04-01 07:49:52.3590   \n",
       "1               493  2019-04-01 12:41:09.6540  2019-04-01 12:49:23.0290   \n",
       "2               512  2019-04-01 14:27:07.9400  2019-04-01 14:35:40.9370   \n",
       "3               196  2019-04-01 15:07:38.1510  2019-04-01 15:10:54.6260   \n",
       "4               463  2019-04-01 16:19:24.6940  2019-04-01 16:27:08.6450   \n",
       "...             ...                       ...                       ...   \n",
       "30081          1054  2020-10-31 23:32:22.8650  2020-10-31 23:49:57.5320   \n",
       "30082           156  2020-10-31 23:33:22.7310  2020-10-31 23:35:59.4930   \n",
       "30083          1858  2020-10-31 23:37:01.7010  2020-11-01 00:07:59.7530   \n",
       "30084          1809  2020-10-31 23:37:46.1430  2020-11-01 00:07:55.2740   \n",
       "30085           395  2020-10-31 23:40:06.3530  2020-10-31 23:46:42.0640   \n",
       "\n",
       "       start station id start station name  start station latitude  \\\n",
       "0                  3183     Exchange Place               40.716247   \n",
       "1                  3183     Exchange Place               40.716247   \n",
       "2                  3183     Exchange Place               40.716247   \n",
       "3                  3183     Exchange Place               40.716247   \n",
       "4                  3183     Exchange Place               40.716247   \n",
       "...                 ...                ...                     ...   \n",
       "30081              3198   Heights Elevator               40.748716   \n",
       "30082              3185          City Hall               40.717733   \n",
       "30083              3278   Monmouth and 6th               40.725685   \n",
       "30084              3278   Monmouth and 6th               40.725685   \n",
       "30085              3481            York St               40.716490   \n",
       "\n",
       "       start station longitude  end station id  end station name  \\\n",
       "0                   -74.033459            3184       Paulus Hook   \n",
       "1                   -74.033459            3187         Warren St   \n",
       "2                   -74.033459            3202      Newport PATH   \n",
       "3                   -74.033459            3214  Essex Light Rail   \n",
       "4                   -74.033459            3273      Manila & 1st   \n",
       "...                        ...             ...               ...   \n",
       "30081               -74.040443            3678     Fairmount Ave   \n",
       "30082               -74.043845            3681          Grand St   \n",
       "30083               -74.048790            3278  Monmouth and 6th   \n",
       "30084               -74.048790            3278  Monmouth and 6th   \n",
       "30085               -74.041050            3273      Manila & 1st   \n",
       "\n",
       "       end station latitude  end station longitude  bikeid    usertype  \\\n",
       "0                 40.714145             -74.033552   29536  Subscriber   \n",
       "1                 40.721124             -74.038051   26191    Customer   \n",
       "2                 40.727224             -74.033759   29302  Subscriber   \n",
       "3                 40.712774             -74.036486   26220  Subscriber   \n",
       "4                 40.721651             -74.042884   26228  Subscriber   \n",
       "...                     ...                    ...     ...         ...   \n",
       "30081             40.725726             -74.071959   17231    Customer   \n",
       "30082             40.715178             -74.037683   46532  Subscriber   \n",
       "30083             40.725685             -74.048790   42230  Subscriber   \n",
       "30084             40.725685             -74.048790   45341  Subscriber   \n",
       "30085             40.721651             -74.042884   45647  Subscriber   \n",
       "\n",
       "       birth year  gender  \n",
       "0            1966       1  \n",
       "1            1990       1  \n",
       "2            1987       2  \n",
       "3            1989       1  \n",
       "4            1995       1  \n",
       "...           ...     ...  \n",
       "30081        1969       0  \n",
       "30082        1981       1  \n",
       "30083        1998       1  \n",
       "30084        1999       1  \n",
       "30085        1967       1  \n",
       "\n",
       "[529707 rows x 15 columns]"
      ],
      "text/html": "<div>\n<style scoped>\n    .dataframe tbody tr th:only-of-type {\n        vertical-align: middle;\n    }\n\n    .dataframe tbody tr th {\n        vertical-align: top;\n    }\n\n    .dataframe thead th {\n        text-align: right;\n    }\n</style>\n<table border=\"1\" class=\"dataframe\">\n  <thead>\n    <tr style=\"text-align: right;\">\n      <th></th>\n      <th>tripduration</th>\n      <th>starttime</th>\n      <th>stoptime</th>\n      <th>start station id</th>\n      <th>start station name</th>\n      <th>start station latitude</th>\n      <th>start station longitude</th>\n      <th>end station id</th>\n      <th>end station name</th>\n      <th>end station latitude</th>\n      <th>end station longitude</th>\n      <th>bikeid</th>\n      <th>usertype</th>\n      <th>birth year</th>\n      <th>gender</th>\n    </tr>\n  </thead>\n  <tbody>\n    <tr>\n      <th>0</th>\n      <td>107</td>\n      <td>2019-04-01 07:48:04.7540</td>\n      <td>2019-04-01 07:49:52.3590</td>\n      <td>3183</td>\n      <td>Exchange Place</td>\n      <td>40.716247</td>\n      <td>-74.033459</td>\n      <td>3184</td>\n      <td>Paulus Hook</td>\n      <td>40.714145</td>\n      <td>-74.033552</td>\n      <td>29536</td>\n      <td>Subscriber</td>\n      <td>1966</td>\n      <td>1</td>\n    </tr>\n    <tr>\n      <th>1</th>\n      <td>493</td>\n      <td>2019-04-01 12:41:09.6540</td>\n      <td>2019-04-01 12:49:23.0290</td>\n      <td>3183</td>\n      <td>Exchange Place</td>\n      <td>40.716247</td>\n      <td>-74.033459</td>\n      <td>3187</td>\n      <td>Warren St</td>\n      <td>40.721124</td>\n      <td>-74.038051</td>\n      <td>26191</td>\n      <td>Customer</td>\n      <td>1990</td>\n      <td>1</td>\n    </tr>\n    <tr>\n      <th>2</th>\n      <td>512</td>\n      <td>2019-04-01 14:27:07.9400</td>\n      <td>2019-04-01 14:35:40.9370</td>\n      <td>3183</td>\n      <td>Exchange Place</td>\n      <td>40.716247</td>\n      <td>-74.033459</td>\n      <td>3202</td>\n      <td>Newport PATH</td>\n      <td>40.727224</td>\n      <td>-74.033759</td>\n      <td>29302</td>\n      <td>Subscriber</td>\n      <td>1987</td>\n      <td>2</td>\n    </tr>\n    <tr>\n      <th>3</th>\n      <td>196</td>\n      <td>2019-04-01 15:07:38.1510</td>\n      <td>2019-04-01 15:10:54.6260</td>\n      <td>3183</td>\n      <td>Exchange Place</td>\n      <td>40.716247</td>\n      <td>-74.033459</td>\n      <td>3214</td>\n      <td>Essex Light Rail</td>\n      <td>40.712774</td>\n      <td>-74.036486</td>\n      <td>26220</td>\n      <td>Subscriber</td>\n      <td>1989</td>\n      <td>1</td>\n    </tr>\n    <tr>\n      <th>4</th>\n      <td>463</td>\n      <td>2019-04-01 16:19:24.6940</td>\n      <td>2019-04-01 16:27:08.6450</td>\n      <td>3183</td>\n      <td>Exchange Place</td>\n      <td>40.716247</td>\n      <td>-74.033459</td>\n      <td>3273</td>\n      <td>Manila &amp; 1st</td>\n      <td>40.721651</td>\n      <td>-74.042884</td>\n      <td>26228</td>\n      <td>Subscriber</td>\n      <td>1995</td>\n      <td>1</td>\n    </tr>\n    <tr>\n      <th>...</th>\n      <td>...</td>\n      <td>...</td>\n      <td>...</td>\n      <td>...</td>\n      <td>...</td>\n      <td>...</td>\n      <td>...</td>\n      <td>...</td>\n      <td>...</td>\n      <td>...</td>\n      <td>...</td>\n      <td>...</td>\n      <td>...</td>\n      <td>...</td>\n      <td>...</td>\n    </tr>\n    <tr>\n      <th>30081</th>\n      <td>1054</td>\n      <td>2020-10-31 23:32:22.8650</td>\n      <td>2020-10-31 23:49:57.5320</td>\n      <td>3198</td>\n      <td>Heights Elevator</td>\n      <td>40.748716</td>\n      <td>-74.040443</td>\n      <td>3678</td>\n      <td>Fairmount Ave</td>\n      <td>40.725726</td>\n      <td>-74.071959</td>\n      <td>17231</td>\n      <td>Customer</td>\n      <td>1969</td>\n      <td>0</td>\n    </tr>\n    <tr>\n      <th>30082</th>\n      <td>156</td>\n      <td>2020-10-31 23:33:22.7310</td>\n      <td>2020-10-31 23:35:59.4930</td>\n      <td>3185</td>\n      <td>City Hall</td>\n      <td>40.717733</td>\n      <td>-74.043845</td>\n      <td>3681</td>\n      <td>Grand St</td>\n      <td>40.715178</td>\n      <td>-74.037683</td>\n      <td>46532</td>\n      <td>Subscriber</td>\n      <td>1981</td>\n      <td>1</td>\n    </tr>\n    <tr>\n      <th>30083</th>\n      <td>1858</td>\n      <td>2020-10-31 23:37:01.7010</td>\n      <td>2020-11-01 00:07:59.7530</td>\n      <td>3278</td>\n      <td>Monmouth and 6th</td>\n      <td>40.725685</td>\n      <td>-74.048790</td>\n      <td>3278</td>\n      <td>Monmouth and 6th</td>\n      <td>40.725685</td>\n      <td>-74.048790</td>\n      <td>42230</td>\n      <td>Subscriber</td>\n      <td>1998</td>\n      <td>1</td>\n    </tr>\n    <tr>\n      <th>30084</th>\n      <td>1809</td>\n      <td>2020-10-31 23:37:46.1430</td>\n      <td>2020-11-01 00:07:55.2740</td>\n      <td>3278</td>\n      <td>Monmouth and 6th</td>\n      <td>40.725685</td>\n      <td>-74.048790</td>\n      <td>3278</td>\n      <td>Monmouth and 6th</td>\n      <td>40.725685</td>\n      <td>-74.048790</td>\n      <td>45341</td>\n      <td>Subscriber</td>\n      <td>1999</td>\n      <td>1</td>\n    </tr>\n    <tr>\n      <th>30085</th>\n      <td>395</td>\n      <td>2020-10-31 23:40:06.3530</td>\n      <td>2020-10-31 23:46:42.0640</td>\n      <td>3481</td>\n      <td>York St</td>\n      <td>40.716490</td>\n      <td>-74.041050</td>\n      <td>3273</td>\n      <td>Manila &amp; 1st</td>\n      <td>40.721651</td>\n      <td>-74.042884</td>\n      <td>45647</td>\n      <td>Subscriber</td>\n      <td>1967</td>\n      <td>1</td>\n    </tr>\n  </tbody>\n</table>\n<p>529707 rows × 15 columns</p>\n</div>"
     },
     "metadata": {},
     "execution_count": 3
    }
   ],
   "source": [
    "#combine all files in the list\n",
    "combined_csv = pd.concat([pd.read_csv(f) for f in all_filenames ])\n",
    "combined_csv\n"
   ]
  },
  {
   "cell_type": "code",
   "execution_count": 4,
   "metadata": {},
   "outputs": [
    {
     "output_type": "execute_result",
     "data": {
      "text/plain": [
       "tripduration               529707\n",
       "starttime                  529707\n",
       "stoptime                   529707\n",
       "start station id           529707\n",
       "start station name         529707\n",
       "start station latitude     529707\n",
       "start station longitude    529707\n",
       "end station id             529707\n",
       "end station name           529707\n",
       "end station latitude       529707\n",
       "end station longitude      529707\n",
       "bikeid                     529707\n",
       "usertype                   529707\n",
       "birth year                 529707\n",
       "gender                     529707\n",
       "dtype: int64"
      ]
     },
     "metadata": {},
     "execution_count": 4
    }
   ],
   "source": [
    "combined_csv.count()"
   ]
  },
  {
   "cell_type": "code",
   "execution_count": 5,
   "metadata": {},
   "outputs": [],
   "source": [
    "combined_csv.to_csv( \"JC-combined-citibike-tripdata.csv\", index=False, encoding='utf-8-sig')"
   ]
  },
  {
   "cell_type": "code",
   "execution_count": null,
   "metadata": {},
   "outputs": [],
   "source": []
  }
 ]
}